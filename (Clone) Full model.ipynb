{
 "cells": [
  {
   "cell_type": "markdown",
   "metadata": {
    "application/vnd.databricks.v1+cell": {
     "cellMetadata": {
      "byteLimit": 2048000,
      "rowLimit": 10000
     },
     "inputWidgets": {},
     "nuid": "e765a6ea-5e3c-4f22-8f18-5654445bd8df",
     "showTitle": false,
     "tableResultSettingsMap": {},
     "title": ""
    }
   },
   "source": [
    "##Input"
   ]
  },
  {
   "cell_type": "code",
   "execution_count": 0,
   "metadata": {
    "application/vnd.databricks.v1+cell": {
     "cellMetadata": {
      "byteLimit": 2048000,
      "rowLimit": 10000
     },
     "inputWidgets": {},
     "nuid": "f8d55ee4-7a73-4a8c-83cf-8cbb593f0ff4",
     "showTitle": false,
     "tableResultSettingsMap": {},
     "title": ""
    }
   },
   "outputs": [],
   "source": [
    "mnt_sim_years = 50\n",
    "Hs_lim = 2.5\n",
    "Tp_lim = 6\n",
    "min_duration = 12\n",
    "column_names = ['Hs', 'Tp']\n",
    "\n",
    "\n",
    "# database_name =                   lookup copernicus\n",
    "#longitude_min = \n",
    "#longitude_max =\n",
    "#latitude_min =\n",
    "# latitude_max = "
   ]
  },
  {
   "cell_type": "markdown",
   "metadata": {
    "application/vnd.databricks.v1+cell": {
     "cellMetadata": {
      "byteLimit": 2048000,
      "rowLimit": 10000
     },
     "inputWidgets": {},
     "nuid": "18572373-ee99-4d23-a66d-d3c6d504f123",
     "showTitle": false,
     "tableResultSettingsMap": {},
     "title": ""
    }
   },
   "source": [
    "##Libraries"
   ]
  },
  {
   "cell_type": "code",
   "execution_count": 0,
   "metadata": {
    "application/vnd.databricks.v1+cell": {
     "cellMetadata": {
      "byteLimit": 2048000,
      "rowLimit": 10000
     },
     "inputWidgets": {},
     "nuid": "4e673a7f-6c6e-4ce5-90d4-ebdf1843b91b",
     "showTitle": false,
     "tableResultSettingsMap": {},
     "title": ""
    }
   },
   "outputs": [],
   "source": [
    "import numpy as np\n",
    "import pandas as pd\n",
    "from sklearn.preprocessing import StandardScaler\n",
    "from statsmodels.tsa.regime_switching.markov_autoregression import MarkovAutoregression\n",
    "from joblib import Parallel, delayed \n",
    "from sklearn.model_selection import TimeSeriesSplit\n",
    "from sklearn.preprocessing import PowerTransformer\n",
    "import mlflow\n",
    "import plotly.express as px\n",
    "import matplotlib.pyplot as plt\n",
    "\n",
    "#Libraries for copernicus data extraction\n",
    "#import copernicusmarine as cm"
   ]
  },
  {
   "cell_type": "markdown",
   "metadata": {
    "application/vnd.databricks.v1+cell": {
     "cellMetadata": {},
     "inputWidgets": {},
     "nuid": "dafe350d-c4f6-41dd-a45e-26c8c12d9a15",
     "showTitle": false,
     "tableResultSettingsMap": {},
     "title": ""
    }
   },
   "source": [
    "##Copernicus data extraction (work in progress)"
   ]
  },
  {
   "cell_type": "code",
   "execution_count": 0,
   "metadata": {
    "application/vnd.databricks.v1+cell": {
     "cellMetadata": {},
     "inputWidgets": {},
     "nuid": "8b470b14-adcd-4543-8780-17ea52828a67",
     "showTitle": false,
     "tableResultSettingsMap": {},
     "title": ""
    }
   },
   "outputs": [],
   "source": [
    "#cm.login(username = 'brosenberg1', \n",
    "#         password= 'Allseas123!')"
   ]
  },
  {
   "cell_type": "code",
   "execution_count": 0,
   "metadata": {
    "application/vnd.databricks.v1+cell": {
     "cellMetadata": {},
     "inputWidgets": {},
     "nuid": "a44c077b-76e4-4bef-9cc6-516b0fccc292",
     "showTitle": false,
     "tableResultSettingsMap": {},
     "title": ""
    }
   },
   "outputs": [],
   "source": [
    "# df_raw = cm.read_dataframe(\n",
    "#   dataset_id=\"cmems_mod_glo_wav_anfc_0.083deg_PT3H-i\",\n",
    "#   variables=[\"VHM0\", \"VTPK\"],\n",
    "#   minimum_longitude=-110.54330133693617, #specify\n",
    "#   maximum_longitude=-110.54330133693617, #specify\n",
    "#   minimum_latitude=8.493861792320827, #specify\n",
    "#   maximum_latitude=8.493861792320827, #specify\n",
    "#   start_datetime=\"1980-01-1T00:00:00\",\n",
    "#   end_datetime=\"2025-01-1T00:00:00\",\n",
    "# )\n",
    "\n",
    "# df_raw['DateTime'] = pd.to_datetime(df_raw['time']).dt.tz_localize(\"UTC\")\n",
    "# df_raw['Month'] = df_raw['DateTime'].dt.month\n",
    "# df_raw = df_raw.set_index('DateTime')\n",
    "# df_raw = df_raw.rename(columns={'VHM0': 'Hs', 'VTPK': 'Tp'})\n",
    "# df_raw = df_raw[['Month','Hs', 'Tp']]\n",
    "# df_raw = df_raw.iloc[::2] #Pick every second time point"
   ]
  },
  {
   "cell_type": "markdown",
   "metadata": {
    "application/vnd.databricks.v1+cell": {
     "cellMetadata": {},
     "inputWidgets": {},
     "nuid": "54d18857-35a6-4333-bfd1-83ea7b880bcd",
     "showTitle": false,
     "tableResultSettingsMap": {},
     "title": ""
    }
   },
   "source": [
    "It is also possible to store the data in databricks, but i don't see why we would do this. Now we only import it in our code"
   ]
  },
  {
   "cell_type": "markdown",
   "metadata": {
    "application/vnd.databricks.v1+cell": {
     "cellMetadata": {
      "byteLimit": 2048000,
      "rowLimit": 10000
     },
     "inputWidgets": {},
     "nuid": "bdc42870-a688-488d-8cbf-cf8ad6bc58a0",
     "showTitle": false,
     "tableResultSettingsMap": {},
     "title": ""
    }
   },
   "source": [
    "##Data input and preprocessing "
   ]
  },
  {
   "cell_type": "markdown",
   "metadata": {
    "application/vnd.databricks.v1+cell": {
     "cellMetadata": {},
     "inputWidgets": {},
     "nuid": "d190ef03-843d-4abd-a594-d74a867b563a",
     "showTitle": false,
     "tableResultSettingsMap": {},
     "title": ""
    }
   },
   "source": [
    "Obsolete if copernicus data import works"
   ]
  },
  {
   "cell_type": "code",
   "execution_count": 0,
   "metadata": {
    "application/vnd.databricks.v1+cell": {
     "cellMetadata": {
      "byteLimit": 2048000,
      "rowLimit": 10000
     },
     "inputWidgets": {},
     "nuid": "5976f562-acef-4223-a769-7367888df087",
     "showTitle": false,
     "tableResultSettingsMap": {},
     "title": ""
    }
   },
   "outputs": [],
   "source": [
    "path = '/Workspace/Users/brb@allseas.com/Markov Switching Workability/data/Timeseries_Waves_ShellCrux.csv'\n",
    "df_raw = pd.read_csv(path)\n",
    "df_raw['DateTime'] = pd.to_datetime(df_raw['time']).dt.tz_localize(\"UTC\")\n",
    "df_raw['Month'] = df_raw['DateTime'].dt.month\n",
    "df_raw = df_raw.set_index('DateTime')\n",
    "df_raw = df_raw.rename(columns={'VHM0': 'Hs', 'VTPK': 'Tp'})\n",
    "df_raw = df_raw[['Month','Hs', 'Tp']]\n",
    "df_raw = df_raw.iloc[::2] #Pick every second time point"
   ]
  },
  {
   "cell_type": "markdown",
   "metadata": {
    "application/vnd.databricks.v1+cell": {
     "cellMetadata": {
      "byteLimit": 2048000,
      "rowLimit": 10000
     },
     "inputWidgets": {},
     "nuid": "4228a733-718e-48a2-a837-9fc7f63c37af",
     "showTitle": false,
     "tableResultSettingsMap": {},
     "title": ""
    }
   },
   "source": [
    "Create output df"
   ]
  },
  {
   "cell_type": "code",
   "execution_count": 0,
   "metadata": {
    "application/vnd.databricks.v1+cell": {
     "cellMetadata": {
      "byteLimit": 2048000,
      "rowLimit": 10000
     },
     "inputWidgets": {},
     "nuid": "a85cbc70-edf6-4cc4-a0c3-f7495050468b",
     "showTitle": false,
     "tableResultSettingsMap": {},
     "title": ""
    }
   },
   "outputs": [],
   "source": [
    "begin_year = df_raw.index[0].year\n",
    "end_year = begin_year + mnt_sim_years\n",
    "date_rng = pd.date_range(start=f'{begin_year}-01-01', end=f'{end_year}-01-03', freq='6H').tz_localize(\"UTC\")\n",
    "\n",
    "# Create a DataFrame with the date range as the index\n",
    "output_df = pd.DataFrame(date_rng, columns=['DateTime'])\n",
    "output_df['Month'] = output_df['DateTime'].dt.month\n",
    "\n",
    "output_df = output_df.set_index('DateTime')\n"
   ]
  },
  {
   "cell_type": "markdown",
   "metadata": {
    "application/vnd.databricks.v1+cell": {
     "cellMetadata": {
      "byteLimit": 2048000,
      "rowLimit": 10000
     },
     "inputWidgets": {},
     "nuid": "668d5a9b-0b17-42f2-9b87-207f4bafc57b",
     "showTitle": false,
     "tableResultSettingsMap": {},
     "title": ""
    }
   },
   "source": [
    "Monthly dataframes"
   ]
  },
  {
   "cell_type": "code",
   "execution_count": 0,
   "metadata": {
    "application/vnd.databricks.v1+cell": {
     "cellMetadata": {
      "byteLimit": 2048000,
      "rowLimit": 10000
     },
     "inputWidgets": {},
     "nuid": "4f2386d7-e25c-4d7b-9a96-909ff90986d7",
     "showTitle": false,
     "tableResultSettingsMap": {},
     "title": ""
    }
   },
   "outputs": [],
   "source": [
    "monthly_dataframes = {}\n",
    "monthly_output_df = {}\n",
    "for month, data in df_raw.groupby('Month'):\n",
    "    monthly_output_df[month] = output_df.copy()\n",
    "    monthly_dataframes[month] = data.copy()"
   ]
  },
  {
   "cell_type": "markdown",
   "metadata": {
    "application/vnd.databricks.v1+cell": {
     "cellMetadata": {
      "byteLimit": 2048000,
      "rowLimit": 10000
     },
     "inputWidgets": {},
     "nuid": "1c9f6e6e-e667-4353-adbd-d8bb3d9a7bb9",
     "showTitle": false,
     "tableResultSettingsMap": {},
     "title": ""
    }
   },
   "source": [
    "Transform data"
   ]
  },
  {
   "cell_type": "code",
   "execution_count": 0,
   "metadata": {
    "application/vnd.databricks.v1+cell": {
     "cellMetadata": {
      "byteLimit": 2048000,
      "rowLimit": 10000
     },
     "inputWidgets": {},
     "nuid": "c6904e7e-f191-414e-8a7b-2e41d0d3ec25",
     "showTitle": false,
     "tableResultSettingsMap": {},
     "title": ""
    }
   },
   "outputs": [],
   "source": [
    "boxcox_dfs        = {}   # month → DataFrame with original columns, Hs_boxcox, and Tp_boxcox\n",
    "boxcox_models_Hs  = {}   # month → fitted PowerTransformer for Hs (for inverse_transform)\n",
    "boxcox_models_Tp  = {}  \n",
    "\n",
    "for month, df in monthly_dataframes.items():\n",
    "\n",
    "    # 1️⃣ Safety checks – Box-Cox needs strictly positive data\n",
    "    if (df['Hs'] <= 0).any():\n",
    "        raise ValueError(f\"Month {month}: Hs contains non-positive values, Box-Cox transformation cannot be applied.\")\n",
    "    \n",
    "    if (df['Tp'] <= 0).any(): # Added safety check for Tp\n",
    "        raise ValueError(f\"Month {month}: Tp contains non-positive values, Box-Cox transformation cannot be applied.\")\n",
    "\n",
    "    # 2️⃣ Fit fresh, separate transformers for Hs and Tp for this month\n",
    "    \n",
    "    # Transformer for Hs\n",
    "    pt_hs = PowerTransformer(method=\"box-cox\", standardize=True)  # Set standardize to False if you don’t want z-scaling\n",
    "    # Ensure 'Hs' is 2D array for fit_transform, e.g., df[['Hs']]\n",
    "    transformed_Hs = pt_hs.fit_transform(df[['Hs']]).ravel()\n",
    "    \n",
    "    # Transformer for Tp\n",
    "    pt_tp = PowerTransformer(method=\"box-cox\", standardize=True)  # Set standardize to False if you don’t want z-scaling\n",
    "    # Ensure 'Tp' is 2D array for fit_transform, e.g., df[['Tp']]\n",
    "    transformed_Tp = pt_tp.fit_transform(df[['Tp']]).ravel()\n",
    "\n",
    "    # 3️⃣ Save results\n",
    "    out = df.copy()  # Contains original columns\n",
    "\n",
    "    out[\"Hs_boxcox\"] = transformed_Hs\n",
    "    out[\"Tp_boxcox\"] = transformed_Tp  # DataFrame `out` now contains both transformed series\n",
    "\n",
    "    # Store the DataFrame (which includes both transformations)\n",
    "    boxcox_dfs[month]    = out              # For day-to-day analysis, contains original df + transformed Hs & Tp\n",
    "    \n",
    "    # Store the correctly fitted transformers\n",
    "    boxcox_models_Hs[month] = pt_hs            # Hs transformer, so you can invert Hs_boxcox later\n",
    "    boxcox_models_Tp[month] = pt_tp            # Tp transformer, so you can invert Tp_boxcox later"
   ]
  },
  {
   "cell_type": "markdown",
   "metadata": {
    "application/vnd.databricks.v1+cell": {
     "cellMetadata": {
      "byteLimit": 2048000,
      "rowLimit": 10000
     },
     "inputWidgets": {},
     "nuid": "afcd8ce0-3019-4895-9dbc-e5980ec9943e",
     "showTitle": false,
     "tableResultSettingsMap": {},
     "title": ""
    }
   },
   "source": [
    "Grid search "
   ]
  },
  {
   "cell_type": "code",
   "execution_count": 0,
   "metadata": {
    "application/vnd.databricks.v1+cell": {
     "cellMetadata": {
      "byteLimit": 2048000,
      "rowLimit": 10000
     },
     "inputWidgets": {},
     "nuid": "785e1f0c-591d-4ebe-b021-fb4b242b73c7",
     "showTitle": false,
     "tableResultSettingsMap": {},
     "title": ""
    }
   },
   "outputs": [
    {
     "output_type": "stream",
     "name": "stdout",
     "output_type": "stream",
     "text": [
      "\nProcessing Month: 1\n  Target Variable: Hs_boxcox\n    Running grid search for Hs_boxcox, month 1 with 1 parameter combos on 4092 data points...\n"
     ]
    },
    {
     "output_type": "stream",
     "name": "stderr",
     "output_type": "stream",
     "text": [
      "[Parallel(n_jobs=12)]: Using backend LokyBackend with 12 concurrent workers.\n"
     ]
    },
    {
     "output_type": "stream",
     "name": "stdout",
     "output_type": "stream",
     "text": [
      "    Best parameters for Hs_boxcox, month 1: {'k_regimes': 2, 'order': 2} with mean BIC: 1110.8720\n    Logged best params for Hs_boxcox, month 1 to MLflow.\n  Target Variable: Tp_boxcox\n    Running grid search for Tp_boxcox, month 1 with 1 parameter combos on 4092 data points...\n"
     ]
    },
    {
     "output_type": "stream",
     "name": "stderr",
     "output_type": "stream",
     "text": [
      "[Parallel(n_jobs=12)]: Using backend LokyBackend with 12 concurrent workers.\n"
     ]
    },
    {
     "output_type": "stream",
     "name": "stdout",
     "output_type": "stream",
     "text": [
      "    Best parameters for Tp_boxcox, month 1: {'k_regimes': 2, 'order': 2} with mean BIC: 3171.0211\n    Logged best params for Tp_boxcox, month 1 to MLflow.\n\nProcessing Month: 2\n  Target Variable: Hs_boxcox\n    Running grid search for Hs_boxcox, month 2 with 1 parameter combos on 3729 data points...\n"
     ]
    },
    {
     "output_type": "stream",
     "name": "stderr",
     "output_type": "stream",
     "text": [
      "[Parallel(n_jobs=12)]: Using backend LokyBackend with 12 concurrent workers.\n"
     ]
    },
    {
     "output_type": "stream",
     "name": "stdout",
     "output_type": "stream",
     "text": [
      "    Best parameters for Hs_boxcox, month 2: {'k_regimes': 2, 'order': 2} with mean BIC: 1113.3269\n    Logged best params for Hs_boxcox, month 2 to MLflow.\n  Target Variable: Tp_boxcox\n    Running grid search for Tp_boxcox, month 2 with 1 parameter combos on 3729 data points...\n"
     ]
    },
    {
     "output_type": "stream",
     "name": "stderr",
     "output_type": "stream",
     "text": [
      "[Parallel(n_jobs=12)]: Using backend LokyBackend with 12 concurrent workers.\n"
     ]
    },
    {
     "output_type": "stream",
     "name": "stdout",
     "output_type": "stream",
     "text": [
      "    Best parameters for Tp_boxcox, month 2: {'k_regimes': 2, 'order': 2} with mean BIC: 2715.9948\n    Logged best params for Tp_boxcox, month 2 to MLflow.\n\nProcessing Month: 3\n  Target Variable: Hs_boxcox\n    Running grid search for Hs_boxcox, month 3 with 1 parameter combos on 4092 data points...\n"
     ]
    },
    {
     "output_type": "stream",
     "name": "stderr",
     "output_type": "stream",
     "text": [
      "[Parallel(n_jobs=12)]: Using backend LokyBackend with 12 concurrent workers.\n"
     ]
    },
    {
     "output_type": "stream",
     "name": "stdout",
     "output_type": "stream",
     "text": [
      "    Best parameters for Hs_boxcox, month 3: {'k_regimes': 2, 'order': 2} with mean BIC: 1305.1169\n    Logged best params for Hs_boxcox, month 3 to MLflow.\n  Target Variable: Tp_boxcox\n    Running grid search for Tp_boxcox, month 3 with 1 parameter combos on 4092 data points...\n"
     ]
    },
    {
     "output_type": "stream",
     "name": "stderr",
     "output_type": "stream",
     "text": [
      "[Parallel(n_jobs=12)]: Using backend LokyBackend with 12 concurrent workers.\n"
     ]
    },
    {
     "output_type": "stream",
     "name": "stdout",
     "output_type": "stream",
     "text": [
      "    Best parameters for Tp_boxcox, month 3: {'k_regimes': 2, 'order': 2} with mean BIC: 3133.7419\n    Logged best params for Tp_boxcox, month 3 to MLflow.\n\nProcessing Month: 4\n  Target Variable: Hs_boxcox\n    Running grid search for Hs_boxcox, month 4 with 1 parameter combos on 3960 data points...\n"
     ]
    },
    {
     "output_type": "stream",
     "name": "stderr",
     "output_type": "stream",
     "text": [
      "[Parallel(n_jobs=12)]: Using backend LokyBackend with 12 concurrent workers.\n"
     ]
    },
    {
     "output_type": "stream",
     "name": "stdout",
     "output_type": "stream",
     "text": [
      "    Best parameters for Hs_boxcox, month 4: {'k_regimes': 2, 'order': 2} with mean BIC: 1428.7741\n    Logged best params for Hs_boxcox, month 4 to MLflow.\n  Target Variable: Tp_boxcox\n    Running grid search for Tp_boxcox, month 4 with 1 parameter combos on 3960 data points...\n"
     ]
    },
    {
     "output_type": "stream",
     "name": "stderr",
     "output_type": "stream",
     "text": [
      "[Parallel(n_jobs=12)]: Using backend LokyBackend with 12 concurrent workers.\n"
     ]
    },
    {
     "output_type": "stream",
     "name": "stdout",
     "output_type": "stream",
     "text": [
      "    Best parameters for Tp_boxcox, month 4: {'k_regimes': 2, 'order': 2} with mean BIC: 2859.1986\n    Logged best params for Tp_boxcox, month 4 to MLflow.\n\nProcessing Month: 5\n  Target Variable: Hs_boxcox\n    Running grid search for Hs_boxcox, month 5 with 1 parameter combos on 3999 data points...\n"
     ]
    },
    {
     "output_type": "stream",
     "name": "stderr",
     "output_type": "stream",
     "text": [
      "[Parallel(n_jobs=12)]: Using backend LokyBackend with 12 concurrent workers.\n"
     ]
    },
    {
     "output_type": "stream",
     "name": "stdout",
     "output_type": "stream",
     "text": [
      "    Best parameters for Hs_boxcox, month 5: {'k_regimes': 2, 'order': 2} with mean BIC: 1499.2490\n    Logged best params for Hs_boxcox, month 5 to MLflow.\n  Target Variable: Tp_boxcox\n    Running grid search for Tp_boxcox, month 5 with 1 parameter combos on 3999 data points...\n"
     ]
    },
    {
     "output_type": "stream",
     "name": "stderr",
     "output_type": "stream",
     "text": [
      "[Parallel(n_jobs=12)]: Using backend LokyBackend with 12 concurrent workers.\n"
     ]
    },
    {
     "output_type": "stream",
     "name": "stdout",
     "output_type": "stream",
     "text": [
      "    Best parameters for Tp_boxcox, month 5: {'k_regimes': 2, 'order': 2} with mean BIC: 2266.3419\n    Logged best params for Tp_boxcox, month 5 to MLflow.\n\nProcessing Month: 6\n  Target Variable: Hs_boxcox\n    Running grid search for Hs_boxcox, month 6 with 1 parameter combos on 3870 data points...\n"
     ]
    },
    {
     "output_type": "stream",
     "name": "stderr",
     "output_type": "stream",
     "text": [
      "[Parallel(n_jobs=12)]: Using backend LokyBackend with 12 concurrent workers.\n"
     ]
    },
    {
     "output_type": "stream",
     "name": "stdout",
     "output_type": "stream",
     "text": [
      "    Best parameters for Hs_boxcox, month 6: {'k_regimes': 2, 'order': 2} with mean BIC: 1478.2357\n    Logged best params for Hs_boxcox, month 6 to MLflow.\n  Target Variable: Tp_boxcox\n    Running grid search for Tp_boxcox, month 6 with 1 parameter combos on 3870 data points...\n"
     ]
    },
    {
     "output_type": "stream",
     "name": "stderr",
     "output_type": "stream",
     "text": [
      "[Parallel(n_jobs=12)]: Using backend LokyBackend with 12 concurrent workers.\n"
     ]
    },
    {
     "output_type": "stream",
     "name": "stdout",
     "output_type": "stream",
     "text": [
      "    Best parameters for Tp_boxcox, month 6: {'k_regimes': 2, 'order': 2} with mean BIC: 3009.6012\n    Logged best params for Tp_boxcox, month 6 to MLflow.\n\nProcessing Month: 7\n  Target Variable: Hs_boxcox\n    Running grid search for Hs_boxcox, month 7 with 1 parameter combos on 3999 data points...\n"
     ]
    },
    {
     "output_type": "stream",
     "name": "stderr",
     "output_type": "stream",
     "text": [
      "[Parallel(n_jobs=12)]: Using backend LokyBackend with 12 concurrent workers.\n"
     ]
    },
    {
     "output_type": "stream",
     "name": "stdout",
     "output_type": "stream",
     "text": [
      "    Best parameters for Hs_boxcox, month 7: {'k_regimes': 2, 'order': 2} with mean BIC: 1274.6766\n    Logged best params for Hs_boxcox, month 7 to MLflow.\n  Target Variable: Tp_boxcox\n    Running grid search for Tp_boxcox, month 7 with 1 parameter combos on 3999 data points...\n"
     ]
    },
    {
     "output_type": "stream",
     "name": "stderr",
     "output_type": "stream",
     "text": [
      "[Parallel(n_jobs=12)]: Using backend LokyBackend with 12 concurrent workers.\n"
     ]
    },
    {
     "output_type": "stream",
     "name": "stdout",
     "output_type": "stream",
     "text": [
      "    Best parameters for Tp_boxcox, month 7: {'k_regimes': 2, 'order': 2} with mean BIC: 2984.1731\n    Logged best params for Tp_boxcox, month 7 to MLflow.\n\nProcessing Month: 8\n  Target Variable: Hs_boxcox\n    Running grid search for Hs_boxcox, month 8 with 1 parameter combos on 3999 data points...\n"
     ]
    },
    {
     "output_type": "stream",
     "name": "stderr",
     "output_type": "stream",
     "text": [
      "[Parallel(n_jobs=12)]: Using backend LokyBackend with 12 concurrent workers.\n"
     ]
    },
    {
     "output_type": "stream",
     "name": "stdout",
     "output_type": "stream",
     "text": [
      "    Best parameters for Hs_boxcox, month 8: {'k_regimes': 2, 'order': 2} with mean BIC: 1488.2537\n    Logged best params for Hs_boxcox, month 8 to MLflow.\n  Target Variable: Tp_boxcox\n    Running grid search for Tp_boxcox, month 8 with 1 parameter combos on 3999 data points...\n"
     ]
    },
    {
     "output_type": "stream",
     "name": "stderr",
     "output_type": "stream",
     "text": [
      "[Parallel(n_jobs=12)]: Using backend LokyBackend with 12 concurrent workers.\n"
     ]
    },
    {
     "output_type": "stream",
     "name": "stdout",
     "output_type": "stream",
     "text": [
      "    Best parameters for Tp_boxcox, month 8: {'k_regimes': 2, 'order': 2} with mean BIC: 3463.2984\n    Logged best params for Tp_boxcox, month 8 to MLflow.\n\nProcessing Month: 9\n  Target Variable: Hs_boxcox\n    Running grid search for Hs_boxcox, month 9 with 1 parameter combos on 3870 data points...\n"
     ]
    },
    {
     "output_type": "stream",
     "name": "stderr",
     "output_type": "stream",
     "text": [
      "[Parallel(n_jobs=12)]: Using backend LokyBackend with 12 concurrent workers.\n"
     ]
    },
    {
     "output_type": "stream",
     "name": "stdout",
     "output_type": "stream",
     "text": [
      "    Best parameters for Hs_boxcox, month 9: {'k_regimes': 2, 'order': 2} with mean BIC: 1148.1020\n    Logged best params for Hs_boxcox, month 9 to MLflow.\n  Target Variable: Tp_boxcox\n    Running grid search for Tp_boxcox, month 9 with 1 parameter combos on 3870 data points...\n"
     ]
    },
    {
     "output_type": "stream",
     "name": "stderr",
     "output_type": "stream",
     "text": [
      "[Parallel(n_jobs=12)]: Using backend LokyBackend with 12 concurrent workers.\n"
     ]
    },
    {
     "output_type": "stream",
     "name": "stdout",
     "output_type": "stream",
     "text": [
      "    Best parameters for Tp_boxcox, month 9: {'k_regimes': 2, 'order': 2} with mean BIC: 3159.2116\n    Logged best params for Tp_boxcox, month 9 to MLflow.\n\nProcessing Month: 10\n  Target Variable: Hs_boxcox\n    Running grid search for Hs_boxcox, month 10 with 1 parameter combos on 3999 data points...\n"
     ]
    },
    {
     "output_type": "stream",
     "name": "stderr",
     "output_type": "stream",
     "text": [
      "[Parallel(n_jobs=12)]: Using backend LokyBackend with 12 concurrent workers.\n"
     ]
    },
    {
     "output_type": "stream",
     "name": "stdout",
     "output_type": "stream",
     "text": [
      "    Best parameters for Hs_boxcox, month 10: {'k_regimes': 2, 'order': 2} with mean BIC: 1447.0986\n    Logged best params for Hs_boxcox, month 10 to MLflow.\n  Target Variable: Tp_boxcox\n    Running grid search for Tp_boxcox, month 10 with 1 parameter combos on 3999 data points...\n"
     ]
    },
    {
     "output_type": "stream",
     "name": "stderr",
     "output_type": "stream",
     "text": [
      "[Parallel(n_jobs=12)]: Using backend LokyBackend with 12 concurrent workers.\n"
     ]
    },
    {
     "output_type": "stream",
     "name": "stdout",
     "output_type": "stream",
     "text": [
      "    Best parameters for Tp_boxcox, month 10: {'k_regimes': 2, 'order': 2} with mean BIC: 3372.5362\n    Logged best params for Tp_boxcox, month 10 to MLflow.\n\nProcessing Month: 11\n  Target Variable: Hs_boxcox\n    Running grid search for Hs_boxcox, month 11 with 1 parameter combos on 3870 data points...\n"
     ]
    },
    {
     "output_type": "stream",
     "name": "stderr",
     "output_type": "stream",
     "text": [
      "[Parallel(n_jobs=12)]: Using backend LokyBackend with 12 concurrent workers.\n"
     ]
    },
    {
     "output_type": "stream",
     "name": "stdout",
     "output_type": "stream",
     "text": [
      "    Best parameters for Hs_boxcox, month 11: {'k_regimes': 2, 'order': 2} with mean BIC: 1175.4592\n    Logged best params for Hs_boxcox, month 11 to MLflow.\n  Target Variable: Tp_boxcox\n    Running grid search for Tp_boxcox, month 11 with 1 parameter combos on 3870 data points...\n"
     ]
    },
    {
     "output_type": "stream",
     "name": "stderr",
     "output_type": "stream",
     "text": [
      "[Parallel(n_jobs=12)]: Using backend LokyBackend with 12 concurrent workers.\n"
     ]
    },
    {
     "output_type": "stream",
     "name": "stdout",
     "output_type": "stream",
     "text": [
      "    Best parameters for Tp_boxcox, month 11: {'k_regimes': 2, 'order': 2} with mean BIC: 3105.8430\n    Logged best params for Tp_boxcox, month 11 to MLflow.\n\nProcessing Month: 12\n  Target Variable: Hs_boxcox\n    Running grid search for Hs_boxcox, month 12 with 1 parameter combos on 3999 data points...\n"
     ]
    },
    {
     "output_type": "stream",
     "name": "stderr",
     "output_type": "stream",
     "text": [
      "[Parallel(n_jobs=12)]: Using backend LokyBackend with 12 concurrent workers.\n"
     ]
    },
    {
     "output_type": "stream",
     "name": "stdout",
     "output_type": "stream",
     "text": [
      "    Best parameters for Hs_boxcox, month 12: {'k_regimes': 2, 'order': 2} with mean BIC: 1267.2948\n    Logged best params for Hs_boxcox, month 12 to MLflow.\n  Target Variable: Tp_boxcox\n    Running grid search for Tp_boxcox, month 12 with 1 parameter combos on 3999 data points...\n"
     ]
    },
    {
     "output_type": "stream",
     "name": "stderr",
     "output_type": "stream",
     "text": [
      "[Parallel(n_jobs=12)]: Using backend LokyBackend with 12 concurrent workers.\n"
     ]
    },
    {
     "output_type": "stream",
     "name": "stdout",
     "output_type": "stream",
     "text": [
      "    Best parameters for Tp_boxcox, month 12: {'k_regimes': 2, 'order': 2} with mean BIC: 3285.7183\n    Logged best params for Tp_boxcox, month 12 to MLflow.\n\n==================================================\nSummary of best parameters per month and variable:\n==================================================\n\n--- Target Variable: Hs_boxcox ---\n  Month 1: Params [k_regimes=2, order=2], Mean BIC = 1110.8720\n  Month 2: Params [k_regimes=2, order=2], Mean BIC = 1113.3269\n  Month 3: Params [k_regimes=2, order=2], Mean BIC = 1305.1169\n  Month 4: Params [k_regimes=2, order=2], Mean BIC = 1428.7741\n  Month 5: Params [k_regimes=2, order=2], Mean BIC = 1499.2490\n  Month 6: Params [k_regimes=2, order=2], Mean BIC = 1478.2357\n  Month 7: Params [k_regimes=2, order=2], Mean BIC = 1274.6766\n  Month 8: Params [k_regimes=2, order=2], Mean BIC = 1488.2537\n  Month 9: Params [k_regimes=2, order=2], Mean BIC = 1148.1020\n  Month 10: Params [k_regimes=2, order=2], Mean BIC = 1447.0986\n  Month 11: Params [k_regimes=2, order=2], Mean BIC = 1175.4592\n  Month 12: Params [k_regimes=2, order=2], Mean BIC = 1267.2948\n\n--- Target Variable: Tp_boxcox ---\n  Month 1: Params [k_regimes=2, order=2], Mean BIC = 3171.0211\n  Month 2: Params [k_regimes=2, order=2], Mean BIC = 2715.9948\n  Month 3: Params [k_regimes=2, order=2], Mean BIC = 3133.7419\n  Month 4: Params [k_regimes=2, order=2], Mean BIC = 2859.1986\n  Month 5: Params [k_regimes=2, order=2], Mean BIC = 2266.3419\n  Month 6: Params [k_regimes=2, order=2], Mean BIC = 3009.6012\n  Month 7: Params [k_regimes=2, order=2], Mean BIC = 2984.1731\n  Month 8: Params [k_regimes=2, order=2], Mean BIC = 3463.2984\n  Month 9: Params [k_regimes=2, order=2], Mean BIC = 3159.2116\n  Month 10: Params [k_regimes=2, order=2], Mean BIC = 3372.5362\n  Month 11: Params [k_regimes=2, order=2], Mean BIC = 3105.8430\n  Month 12: Params [k_regimes=2, order=2], Mean BIC = 3285.7183\n"
     ]
    }
   ],
   "source": [
    "# Your parameter grid (using the smaller one as per your last instruction)\n",
    "param_grid = {\n",
    "    'k_regimes': [2],\n",
    "    'order': [2]\n",
    "}\n",
    "\n",
    "n_splits = 2\n",
    "n_jobs_parallel = 12  # As per your original script\n",
    "verbose_parallel = 1 # As per your original script\n",
    "\n",
    "\n",
    "#--------------------------------------------------------------------------------#\n",
    "#--This function evaluates the model for a given month with certain parameters---#\n",
    "#--------------------------------------------------------------------------------#\n",
    "\n",
    "def evaluate_model_params_bic(params, endog_data, cv_splitter, n_splits_func_scope): # Added n_splits_func_scope\n",
    "    # Extract parameters from the grid\n",
    "    k_regimes = params['k_regimes']\n",
    "    order = params['order']\n",
    "    fold_scores_bic = []\n",
    "\n",
    "    # print(f\"Starting param eval: k={k_regimes}, order={order} for data of length {len(endog_data)}\") # Verbose print\n",
    "\n",
    "    # Ensure enough data for cross-validation (initial check based on overall length)\n",
    "    if len(endog_data) < n_splits_func_scope + 1: # Use passed n_splits\n",
    "        # print(f\"Data too short for CV: len={len(endog_data)}, n_splits={n_splits_func_scope}\")\n",
    "        return {'params': params, 'score': np.inf, 'month_data_too_short_initial': True}\n",
    "\n",
    "    # Perform cross-validation\n",
    "    for train_index, test_index in cv_splitter.split(endog_data):\n",
    "        train_data = endog_data[train_index]\n",
    "\n",
    "        # A simplified check:\n",
    "        min_data_needed = k_regimes * (order + 1) + (k_regimes**2 - k_regimes) + 10 # Heuristic\n",
    "        # min_data_needed = k_regimes * (order + 1 (for const) + 1 (for var)) + (k_regimes**2 - k_regimes) + 10 # More robust heuristic\n",
    "        \n",
    "        if len(train_data) < min_data_needed or len(train_data) < order + 5 or len(train_data) == 0:\n",
    "            # print(f\"  Fold: Train data too short: len={len(train_data)}, min_needed_heuristic={min_data_needed}\")\n",
    "            fold_scores_bic.append(np.inf)\n",
    "            continue\n",
    "\n",
    "        try:\n",
    "            # Fit the model on training data\n",
    "            model = MarkovAutoregression(\n",
    "                endog=train_data,\n",
    "                k_regimes=k_regimes,\n",
    "                order=order,\n",
    "                switching_ar=True,       # All AR parameters switch\n",
    "                switching_variance=True, # Variance switches\n",
    "                switching_trend=False    # No trend considered, or a single global trend if specified\n",
    "            )\n",
    "\n",
    "            # Fit the model (with two stages of fitting)\n",
    "            # Increased maxiter for robustness, reduced maxfun for speed if powell is slow\n",
    "            res1 = model.fit(method='powell', maxfun=3000, maxiter=1000, disp=False) # xtol, ftol defaults are fine\n",
    "            res2 = model.fit(start_params=res1.params, method='bfgs', maxiter=1000, disp=False) # gtol, norm, epsilon defaults fine\n",
    "            \n",
    "            fold_scores_bic.append(res2.bic)  # Save the BIC for this fold\n",
    "\n",
    "        except Exception as e:\n",
    "            # print(f\"  Exception encountered for k={k_regimes}, order={order} in fold: {type(e).__name__} - {str(e)[:100]}\")\n",
    "            fold_scores_bic.append(np.inf)\n",
    "\n",
    "    # Compute the mean BIC score over all folds\n",
    "    valid_scores = [s for s in fold_scores_bic if s is not None and not np.isinf(s) and not np.isnan(s)]\n",
    "    mean_bic = np.mean(valid_scores) if len(valid_scores) > 0 else np.inf\n",
    "\n",
    "    # print(f\"Finished param eval: k={k_regimes}, order={order} → Mean BIC = {mean_bic:.2f} from {len(valid_scores)} valid folds\")\n",
    "\n",
    "    return {'params': params, 'score': mean_bic, 'month_data_too_short_initial': False}\n",
    "\n",
    "\n",
    "#--------------------------------------------------------------------------------#\n",
    "#---------This part loops over the months the perform the function above---------#\n",
    "#--------------------------------------------------------------------------------#\n",
    "\n",
    "# Set MLflow experiment once (replace with your path if needed)\n",
    "# The path you provided seems specific to a user. Ensure this is accessible or adjust.\n",
    "try:\n",
    "    mlflow.set_experiment(\"/Users/brb@allseas.com/MarkovAutoregression_GridSearch_Hs_Tp\")\n",
    "except Exception as e:\n",
    "    print(f\"Could not set MLflow experiment. Ensure MLflow server is running and path is correct. Error: {e}\")\n",
    "    print(\"Proceeding without MLflow logging for this run.\")\n",
    "    mlflow_active = False\n",
    "else:\n",
    "    mlflow_active = True\n",
    "\n",
    "all_best_results_by_variable = {\n",
    "    'Hs_boxcox': {},\n",
    "    'Tp_boxcox': {}\n",
    "}\n",
    "target_variables = ['Hs_boxcox', 'Tp_boxcox'] # Define which variables to process\n",
    "\n",
    "# Assuming boxcox_dfs is a dictionary: month -> DataFrame (with Hs_boxcox and Tp_boxcox columns)\n",
    "# Example: boxcox_dfs = {1: pd.DataFrame({'Hs_boxcox': np.random.rand(100), 'Tp_boxcox': np.random.rand(100)})}\n",
    "\n",
    "for month, df in boxcox_dfs.items(): # Ensure boxcox_dfs is defined and populated\n",
    "    print(f\"\\nProcessing Month: {month}\")\n",
    "    for target_var_name in target_variables:\n",
    "        print(f\"  Target Variable: {target_var_name}\")\n",
    "\n",
    "        if target_var_name not in df.columns:\n",
    "            print(f\"    Skipping {target_var_name} for month {month}: column not found.\")\n",
    "            all_best_results_by_variable[target_var_name][month] = {\n",
    "                'params': None, 'score': np.inf, 'error': f'{target_var_name} column not found'\n",
    "            }\n",
    "            continue\n",
    "\n",
    "        current_timeseries_data = df[target_var_name].values\n",
    "\n",
    "        # Preprocess to keep only last 3/4 of each month's data (as per your n_obs_month * (3//4) logic)\n",
    "        n_obs_month_full = len(current_timeseries_data)\n",
    "        \n",
    "        # Ensure there's enough data overall before trying to take a portion\n",
    "        if n_obs_month_full == 0:\n",
    "            print(f\"    Skipping {target_var_name} for month {month}: no data points.\")\n",
    "            all_best_results_by_variable[target_var_name][month] = {\n",
    "                'params': None, 'score': np.inf, 'error': 'No data points for this month and variable'\n",
    "            }\n",
    "            continue\n",
    "\n",
    "        # Using integer division for n_last_portion to ensure it's an indexable integer\n",
    "        n_last_portion = n_obs_month_full * 3 // 4 \n",
    "        if n_last_portion == 0 and n_obs_month_full > 0 : # if 3/4 is 0, take at least 1 if data exists\n",
    "             n_last_portion = n_obs_month_full # or some other minimum, like 1 if n_obs_month_full > 0\n",
    "\n",
    "        current_timeseries_data_processed = current_timeseries_data[-n_last_portion:]\n",
    "        n_obs_processed = len(current_timeseries_data_processed)\n",
    "\n",
    "        if n_obs_processed < n_splits + 1: # Check based on processed data length\n",
    "            print(f\"    Skipping {target_var_name} for month {month}: insufficient data points after processing ({n_obs_processed}). Min needed for {n_splits} splits: {n_splits + 1}.\")\n",
    "            all_best_results_by_variable[target_var_name][month] = {\n",
    "                'params': None, 'score': np.inf, 'error': f'Insufficient data after processing ({n_obs_processed})'\n",
    "            }\n",
    "            continue\n",
    "\n",
    "        # Prepare TimeSeriesSplit for cross-validation\n",
    "        # effective_test_size calculation: ensure it's at least 1 if possible\n",
    "        # (n_obs_processed - order_max) // n_splits might be safer if order is large relative to n_obs_processed\n",
    "        # However, TimeSeriesSplit's test_size is number of samples, not a percentage here.\n",
    "        # Original logic: (n_obs_month - 1) // n_splits. Adapting to n_obs_processed.\n",
    "        if n_obs_processed // n_splits > 0 :\n",
    "             effective_test_size = (n_obs_processed - 1) // n_splits # Original logic adapted\n",
    "             if effective_test_size == 0 and n_obs_processed > n_splits : # Ensure test size is at least 1 if possible\n",
    "                 effective_test_size = 1\n",
    "        else: # Not enough data to form meaningful splits with test data\n",
    "            print(f\"    Skipping {target_var_name} for month {month}: Not enough data ({n_obs_processed}) to create {n_splits} splits with test data.\")\n",
    "            all_best_results_by_variable[target_var_name][month] = {\n",
    "                'params': None, 'score': np.inf, 'error': f'Cannot create {n_splits} splits with test data from {n_obs_processed} points'\n",
    "            }\n",
    "            continue\n",
    "        \n",
    "        if effective_test_size == 0: # If still zero, indicates a problem\n",
    "            print(f\"    Skipping {target_var_name} for month {month}: effective_test_size is 0 with {n_obs_processed} points for {n_splits} splits.\")\n",
    "            all_best_results_by_variable[target_var_name][month] = {\n",
    "                'params': None, 'score': np.inf, 'error': f'Effective test size is 0'\n",
    "            }\n",
    "            continue\n",
    "\n",
    "        tscv_month = TimeSeriesSplit(n_splits=n_splits, test_size=effective_test_size)\n",
    "\n",
    "        # Prepare parameter combinations to grid search\n",
    "        param_combinations = [{'k_regimes': k, 'order': o} for k in param_grid['k_regimes'] for o in param_grid['order']]\n",
    "\n",
    "        print(f\"    Running grid search for {target_var_name}, month {month} with {len(param_combinations)} parameter combos on {n_obs_processed} data points...\")\n",
    "\n",
    "        # Parallel execution of grid search\n",
    "        results_list_month = Parallel(n_jobs=n_jobs_parallel, verbose=verbose_parallel)(\n",
    "            delayed(evaluate_model_params_bic)(params, current_timeseries_data_processed, tscv_month, n_splits) for params in param_combinations\n",
    "        )\n",
    "\n",
    "        # Filter valid results\n",
    "        valid_results_month = [r for r in results_list_month if r and not r.get('month_data_too_short_initial', False) and r.get('score') is not None and not np.isinf(r['score']) and not np.isnan(r['score'])]\n",
    "\n",
    "        if not valid_results_month:\n",
    "            print(f\"    No valid fits for {target_var_name}, month {month}.\")\n",
    "            all_best_results_by_variable[target_var_name][month] = {\n",
    "                'params': None, 'score': np.inf, 'error': 'No valid model fits'\n",
    "            }\n",
    "            continue\n",
    "\n",
    "        # Sort by best BIC score (lower is better)\n",
    "        sorted_results_month = sorted(valid_results_month, key=lambda x: x['score'])\n",
    "        best_result_month = sorted_results_month[0] # Already filtered for non-inf scores\n",
    "\n",
    "        all_best_results_by_variable[target_var_name][month] = best_result_month\n",
    "        print(f\"    Best parameters for {target_var_name}, month {month}: {best_result_month['params']} with mean BIC: {best_result_month['score']:.4f}\")\n",
    "\n",
    "#--------------------------------------------------------------------------------#\n",
    "#--------------This part logs the results in a databricks experiment-------------#\n",
    "#--------------------------------------------------------------------------------#\n",
    "        if mlflow_active and best_result_month and best_result_month.get('params'):\n",
    "            # Log the best result with a month tag in MLflow\n",
    "            with mlflow.start_run():\n",
    "                mlflow.set_tag(\"month\", str(month))\n",
    "                mlflow.set_tag(\"target_variable\", target_var_name)\n",
    "                run_name = (f\"Var_{target_var_name}_Month_{month}_\"\n",
    "                            f\"kReg_{best_result_month['params']['k_regimes']}_\"\n",
    "                            f\"ord_{best_result_month['params']['order']}\")\n",
    "                mlflow.set_tag(\"mlflow.runName\", run_name)\n",
    "                \n",
    "                mlflow.log_params(best_result_month['params'])\n",
    "                mlflow.log_metric('mean_bic', best_result_month['score'])\n",
    "                mlflow.log_metric('n_obs_full_month', n_obs_month_full) # Original full month observations\n",
    "                mlflow.log_metric('n_obs_processed', n_obs_processed) # Observations used for this run\n",
    "                mlflow.log_metric('effective_test_size', effective_test_size)\n",
    "                mlflow.log_metric('n_splits_cv', n_splits) # Renamed for clarity\n",
    "                mlflow.log_metric('n_jobs_parallel', n_jobs_parallel)\n",
    "                # mlflow.log_metric('verbose_parallel', verbose_parallel) # Typically not logged\n",
    "\n",
    "            print(f\"    Logged best params for {target_var_name}, month {month} to MLflow.\")\n",
    "        elif not mlflow_active:\n",
    "             print(f\"    MLflow is not active. Skipping logging for {target_var_name}, month {month}.\")\n",
    "\n",
    "\n",
    "# Summary output\n",
    "print(\"\\n\" + \"=\"*50)\n",
    "print(\"Summary of best parameters per month and variable:\")\n",
    "print(\"=\"*50)\n",
    "for target_var, monthly_results in all_best_results_by_variable.items():\n",
    "    print(f\"\\n--- Target Variable: {target_var} ---\")\n",
    "    if not monthly_results:\n",
    "        print(\"  No results for this variable.\")\n",
    "        continue\n",
    "    for month, result in monthly_results.items():\n",
    "        if result and result.get('params') and result.get('score') is not None and not np.isinf(result['score']):\n",
    "            params_str = \", \".join(f\"{k}={v}\" for k, v in result['params'].items())\n",
    "            print(f\"  Month {month}: Params [{params_str}], Mean BIC = {result['score']:.4f}\")\n",
    "        else:\n",
    "            err_msg = result.get('error', 'No suitable model found or error in processing') if result else 'No result object'\n",
    "            print(f\"  Month {month}: {err_msg}\")\n"
   ]
  },
  {
   "cell_type": "markdown",
   "metadata": {
    "application/vnd.databricks.v1+cell": {
     "cellMetadata": {
      "byteLimit": 2048000,
      "rowLimit": 10000
     },
     "inputWidgets": {},
     "nuid": "5aa24a00-5ccd-41eb-8534-5d615d4bd34c",
     "showTitle": false,
     "tableResultSettingsMap": {},
     "title": ""
    }
   },
   "source": [
    "#Fit MarkovAutoregression"
   ]
  },
  {
   "cell_type": "code",
   "execution_count": 0,
   "metadata": {
    "application/vnd.databricks.v1+cell": {
     "cellMetadata": {
      "byteLimit": 2048000,
      "rowLimit": 10000
     },
     "inputWidgets": {},
     "nuid": "da105d94-ef8b-495c-8e81-56e50041bad4",
     "showTitle": false,
     "tableResultSettingsMap": {},
     "title": ""
    }
   },
   "outputs": [],
   "source": [
    "def fit_one_month_msm(m: int,\n",
    "                      series_name: str, # Added series_name\n",
    "                      boxcox_dfs: dict[int, pd.DataFrame],\n",
    "                      ar_order: int,    # Specific order for this series & month\n",
    "                      k_regimes: int    # Specific k_regimes for this series & month\n",
    "                     ) -> tuple[int, str, dict]: # Return month, series_name, and params\n",
    "    \"\"\"\n",
    "    Fit MarkovAutoregression(ar_order, k_regimes) on month m’s specified series.\n",
    "    \"\"\"\n",
    "    print(f\"Fitting month {m}, series {series_name}, order {ar_order}, k_regimes {k_regimes}\")\n",
    "    \n",
    "    # Ensure the series exists and has data\n",
    "    if series_name not in boxcox_dfs[m].columns:\n",
    "        print(f\"Series {series_name} not found in boxcox_dfs for month {m}. Skipping.\")\n",
    "        return m, series_name, {\"error\": f\"Series {series_name} not found\"}\n",
    "    \n",
    "    y = (boxcox_dfs[m][series_name]\n",
    "            .replace([np.inf, -np.inf], np.nan)\n",
    "            .dropna()\n",
    "            .reset_index(drop=True))\n",
    "    \n",
    "    if len(y) < ar_order + k_regimes + 10: # Basic check for sufficient data\n",
    "        print(f\"Insufficient data for month {m}, series {series_name} (len: {len(y)}). Skipping fit.\")\n",
    "        return m, series_name, {\"error\": \"Insufficient data points after NaN drop\"}\n",
    "\n",
    "    # Ensure MarkovAutoregression is imported and available\n",
    "    try:\n",
    "        from statsmodels.tsa.regime_switching.markov_autoregression import MarkovAutoregression\n",
    "    except ImportError:\n",
    "        print(\"MarkovAutoregression could not be imported from statsmodels.\")\n",
    "        raise\n",
    "\n",
    "    model = MarkovAutoregression(\n",
    "        endog=y,\n",
    "        k_regimes=k_regimes,\n",
    "        order=ar_order,\n",
    "        trend='n', # No trend; if you need intercept, use 'c' and adjust extract_params\n",
    "        switching_variance=True,\n",
    "        switching_ar=True,\n",
    "    )\n",
    "    \n",
    "    try:\n",
    "        res1 = model.fit(method='powell', maxfun=5000, maxiter=1500, xtol=1e-4, ftol=1e-4, disp=False)\n",
    "        res = model.fit(start_params=res1.params, method='bfgs', maxiter=1500, gtol=1e-6, norm=np.inf, epsilon=1e-8, disp=False)\n",
    "    except Exception as e:\n",
    "        print(f\"Error fitting model for month {m}, series {series_name}: {e}\")\n",
    "        return m, series_name, {\"error\": str(e)}\n",
    "    \n",
    "    A_raw = res.regime_transition.transpose()[0].copy()\n",
    "    pi0  = res.initial_probabilities\n",
    "\n",
    "    k = res.k_regimes\n",
    "    A = np.clip(A_raw, 0.0, 1.0)\n",
    "    for i in range(k):\n",
    "        row_sum = A[i].sum()\n",
    "        if np.isclose(row_sum, 0.0) or row_sum == 0: # Handle exact zero sum\n",
    "            A[i, :] = 1.0 / k\n",
    "        else:\n",
    "            A[i, :] = A[i, :] / row_sum\n",
    "\n",
    "    params_dict = {\n",
    "        \"ar_params_flat\":      res.params,\n",
    "        \"transition_matrix\":   A,\n",
    "        \"k_regimes\":           res.k_regimes,\n",
    "        \"order\":               res.order,\n",
    "        \"n_obs\":               len(y),\n",
    "        \"initial_probabilities\": pi0,\n",
    "        \"series_name\": series_name # Store for clarity\n",
    "    }\n",
    "    return m, series_name, params_dict\n",
    "\n",
    "# ------------------------------------------------------------------\n",
    "# 2)  Parallel wrapper - Modified to handle multiple series\n",
    "# ------------------------------------------------------------------\n",
    "def fit_all_monthly_msm_models(\n",
    "    boxcox_dfs: dict[int, pd.DataFrame],\n",
    "    all_optimal_params: dict[str, dict[int, dict]], # e.g., all_months_best_results\n",
    "    target_series_names: list[str] = [\"Hs_boxcox\", \"Tp_boxcox\"],\n",
    "    n_jobs: int = -1\n",
    ") -> dict[str, dict[int, dict]]:\n",
    "    \"\"\"\n",
    "    Fits MSM models for each target series for each month using optimal parameters.\n",
    "    all_optimal_params should be like: {'Hs_boxcox': {month: {'params': {'k_regimes':kr, 'order':o}}}, ...}\n",
    "    \"\"\"\n",
    "    tasks = []\n",
    "    for series_name in target_series_names:\n",
    "        if series_name not in all_optimal_params:\n",
    "            print(f\"Optimal parameters for series {series_name} not found. Skipping.\")\n",
    "            continue\n",
    "        \n",
    "        series_optimal_params = all_optimal_params[series_name]\n",
    "        for m in range(1, 13): # Assuming months 1-12\n",
    "            if m not in series_optimal_params:\n",
    "                print(f\"Optimal parameters for month {m}, series {series_name} not found. Skipping.\")\n",
    "                continue\n",
    "            \n",
    "            # Ensure 'params' key and sub-keys 'k_regimes', 'order' exist\n",
    "            if 'params' not in series_optimal_params[m] or \\\n",
    "               'k_regimes' not in series_optimal_params[m]['params'] or \\\n",
    "               'order' not in series_optimal_params[m]['params']:\n",
    "                print(f\"Incomplete optimal parameters for month {m}, series {series_name}. Skipping.\")\n",
    "                continue\n",
    "\n",
    "            current_params = series_optimal_params[m]['params']\n",
    "            ar_order = current_params['order']\n",
    "            k_regimes = current_params['k_regimes']\n",
    "            \n",
    "            tasks.append(delayed(fit_one_month_msm)(\n",
    "                m, series_name, boxcox_dfs, ar_order, k_regimes\n",
    "            ))\n",
    "\n",
    "    if not tasks:\n",
    "        print(\"No tasks generated for fitting models.\")\n",
    "        return {}\n",
    "\n",
    "    parallel_results = Parallel(n_jobs=n_jobs)(tasks)\n",
    "\n",
    "    # Restructure results\n",
    "    final_models = {series_name: {} for series_name in target_series_names}\n",
    "    for m_res, series_name_res, params_res in parallel_results:\n",
    "        if \"error\" not in params_res : # Store only successful fits\n",
    "             if series_name_res in final_models: # Ensure series_name_res is valid\n",
    "                 final_models[series_name_res][m_res] = params_res\n",
    "        else:\n",
    "            print(f\"Skipped storing result for month {m_res}, series {series_name_res} due to error: {params_res['error']}\")\n",
    "\n",
    "\n",
    "    return final_models\n",
    "\n",
    "# --- Fit models for both Hs_boxcox and Tp_boxcox ---\n",
    "# This now uses the all_months_best_results structure directly\n",
    "all_series_monthly_models = fit_all_monthly_msm_models(\n",
    "    boxcox_dfs,\n",
    "    all_best_results_by_variable, # Pass the full nested dict\n",
    "    target_series_names=[\"Hs_boxcox\", \"Tp_boxcox\"],\n",
    "    n_jobs=20 # Or your desired number of jobs\n",
    ")\n",
    "\n",
    "#print(\"\\nFitted Models Structure:\")\n",
    "# print(all_series_monthly_models) # Potentially very large output"
   ]
  },
  {
   "cell_type": "markdown",
   "metadata": {
    "application/vnd.databricks.v1+cell": {
     "cellMetadata": {
      "byteLimit": 2048000,
      "rowLimit": 10000
     },
     "inputWidgets": {},
     "nuid": "276e5f67-c0d7-45dc-93ee-be9da29eeca3",
     "showTitle": false,
     "tableResultSettingsMap": {},
     "title": ""
    }
   },
   "source": [
    "##Simulation with parameters from fitting"
   ]
  },
  {
   "cell_type": "markdown",
   "metadata": {
    "application/vnd.databricks.v1+cell": {
     "cellMetadata": {
      "byteLimit": 2048000,
      "rowLimit": 10000
     },
     "inputWidgets": {},
     "nuid": "0cdb94b0-16ac-4339-bddd-406b8b9d08fd",
     "showTitle": false,
     "tableResultSettingsMap": {},
     "title": ""
    }
   },
   "source": [
    "Extracting parameters from fitting"
   ]
  },
  {
   "cell_type": "code",
   "execution_count": 0,
   "metadata": {
    "application/vnd.databricks.v1+cell": {
     "cellMetadata": {
      "byteLimit": 2048000,
      "rowLimit": 10000
     },
     "inputWidgets": {},
     "nuid": "f31ab7d8-090f-4b0d-8f32-29de0c01822b",
     "showTitle": false,
     "tableResultSettingsMap": {},
     "title": ""
    }
   },
   "outputs": [],
   "source": [
    "def extract_params(res_params, k_regimes, order):\n",
    "    params_per_regime = {}\n",
    "    for regime in range(k_regimes):\n",
    "        \n",
    "        intercept = res_params.get(f\"const[{regime}]\", 0)  # Uncomment this when an intercept is included\n",
    "\n",
    "        # Extract AR coefficients for this regime\n",
    "        ar_coefs = [res_params.get(f\"ar.L{i+1}[{regime}]\", 0) for i in range(order)]\n",
    "        \n",
    "        # Extract sigma values for this regime (using the same format as AR coefficients)\n",
    "        sigma = np.sqrt(res_params.get(f\"sigma2[{regime}]\", 1))\n",
    "\n",
    "        \n",
    "        params_per_regime[regime] = {\n",
    "            \"intercept\": intercept,\n",
    "            \"ar_coefs\": ar_coefs,\n",
    "            \"sigma\": sigma\n",
    "        }\n",
    "    return params_per_regime"
   ]
  },
  {
   "cell_type": "code",
   "execution_count": 0,
   "metadata": {
    "application/vnd.databricks.v1+cell": {
     "cellMetadata": {
      "byteLimit": 2048000,
      "rowLimit": 10000
     },
     "inputWidgets": {},
     "nuid": "340dd375-42dc-4a8c-8852-9632fb84e15e",
     "showTitle": false,
     "tableResultSettingsMap": {},
     "title": ""
    }
   },
   "outputs": [],
   "source": [
    "def extract_params(res_params, k_regimes, order):\n",
    "    \"\"\"Extracts model parameters (intercept, AR coefficients, sigma) for each regime.\"\"\"\n",
    "    params_per_regime = {}\n",
    "    for regime in range(k_regimes):\n",
    "        # If trend='c' was used in MarkovAutoregression, intercept would be 'const[{regime}]'\n",
    "        # With trend='n', explicit intercept is typically zero unless part of AR definition.\n",
    "        # For simplicity, assuming intercept is not explicitly fitted or is part of res_params if model implies it.\n",
    "        # If you used trend='c', uncomment:\n",
    "        # intercept = res_params.get(f\"const[{regime}]\", 0) \n",
    "        intercept = 0 # Assuming trend='n' means no separate intercept parameter here.\n",
    "\n",
    "        ar_coefs = [res_params.get(f\"ar.L{i+1}[{regime}]\", 0) for i in range(order)]\n",
    "        \n",
    "        # sigma2 is variance, so sqrt for sigma (std dev)\n",
    "        sigma = np.sqrt(res_params.get(f\"sigma2[{regime}]\", 1.0)) # Default to 1 if not found, to avoid sqrt(0) issues with missing params\n",
    "\n",
    "        params_per_regime[regime] = {\n",
    "            \"intercept\": intercept,\n",
    "            \"ar_coefs\": ar_coefs,\n",
    "            \"sigma\": sigma\n",
    "        }\n",
    "    return params_per_regime"
   ]
  },
  {
   "cell_type": "markdown",
   "metadata": {
    "application/vnd.databricks.v1+cell": {
     "cellMetadata": {
      "byteLimit": 2048000,
      "rowLimit": 10000
     },
     "inputWidgets": {},
     "nuid": "66f8d585-2228-44d5-864b-611c3b7f6b9e",
     "showTitle": false,
     "tableResultSettingsMap": {},
     "title": ""
    }
   },
   "source": [
    "Simulating "
   ]
  },
  {
   "cell_type": "code",
   "execution_count": 0,
   "metadata": {
    "application/vnd.databricks.v1+cell": {
     "cellMetadata": {
      "byteLimit": 2048000,
      "rowLimit": 10000
     },
     "inputWidgets": {},
     "nuid": "d288e60c-b683-4d5c-a0af-1e0b8ebb612e",
     "showTitle": false,
     "tableResultSettingsMap": {},
     "title": ""
    }
   },
   "outputs": [],
   "source": [
    "def simulate_regime_path(length, init_probs, trans_matrix, random_state=48):\n",
    "    \"\"\"Simulates a sequence of regimes given initial probabilities and a transition matrix.\"\"\"\n",
    "    rng = np.random.default_rng(random_state)\n",
    "    regimes = np.zeros(length, dtype=int)\n",
    "    if not init_probs.any(): # Handle case where init_probs might be all zero or invalid\n",
    "        print(\"Warning: Initial probabilities are invalid. Defaulting to uniform distribution.\")\n",
    "        init_probs = np.ones(len(trans_matrix)) / len(trans_matrix)\n",
    "    \n",
    "    # Ensure init_probs sum to 1\n",
    "    if not np.isclose(np.sum(init_probs), 1.0):\n",
    "        print(f\"Warning: Initial probabilities {init_probs} do not sum to 1. Normalizing.\")\n",
    "        init_probs = init_probs / np.sum(init_probs)\n",
    "\n",
    "    regimes[0] = rng.choice(len(init_probs), p=init_probs)\n",
    "    for t in range(1, length):\n",
    "        regimes[t] = rng.choice(len(init_probs), p=trans_matrix[regimes[t-1]])\n",
    "    return regimes"
   ]
  },
  {
   "cell_type": "code",
   "execution_count": 0,
   "metadata": {
    "application/vnd.databricks.v1+cell": {
     "cellMetadata": {
      "byteLimit": 2048000,
      "rowLimit": 10000
     },
     "inputWidgets": {},
     "nuid": "4356448a-0618-4b25-8032-3cdb11507463",
     "showTitle": false,
     "tableResultSettingsMap": {},
     "title": ""
    }
   },
   "outputs": [],
   "source": [
    "def simulate_msar_with_regimes(ts_length, regime_sequence, params_per_regime, order, series_name, random_state=48):\n",
    "    \"\"\"\n",
    "    Simulate time series using a given regime sequence for regime switching.\n",
    "    Modified to output series_name specific columns.\n",
    "    \"\"\"\n",
    "    if random_state is None:\n",
    "        rng = np.random.default_rng()\n",
    "    elif isinstance(random_state, int):\n",
    "        rng = np.random.default_rng(random_state)\n",
    "    else:\n",
    "        rng = random_state\n",
    "\n",
    "    Y = np.zeros(ts_length)\n",
    "    regimes_sampled = np.asarray(regime_sequence).copy()\n",
    "\n",
    "    # Initialize first p values (e.g., with unconditional mean of the first regime or zeros)\n",
    "    # For simplicity, initializing with zeros.\n",
    "    Y[:order] = 0.0\n",
    "\n",
    "    for t in range(order, ts_length):\n",
    "        current_regime_idx = regimes_sampled[t]\n",
    "        p = params_per_regime[current_regime_idx]\n",
    "\n",
    "        eps = rng.normal(0, p['sigma'])\n",
    "        ar_term = 0\n",
    "        for lag_index in range(order):\n",
    "            coef = p['ar_coefs'][lag_index]\n",
    "            lagged_value = Y[t - lag_index - 1]\n",
    "            ar_term += coef * lagged_value\n",
    "        \n",
    "        Y[t] = p['intercept'] + ar_term + eps # Include intercept if it's non-zero\n",
    "\n",
    "    df_sim = pd.DataFrame({\n",
    "        f'{series_name}_simulated': Y,\n",
    "        f'{series_name}_Regime': regimes_sampled\n",
    "    })\n",
    "    return df_sim"
   ]
  },
  {
   "cell_type": "markdown",
   "metadata": {
    "application/vnd.databricks.v1+cell": {
     "cellMetadata": {
      "byteLimit": 2048000,
      "rowLimit": 10000
     },
     "inputWidgets": {},
     "nuid": "1695851f-f734-45ce-846c-febbe1c1c2aa",
     "showTitle": false,
     "tableResultSettingsMap": {},
     "title": ""
    }
   },
   "source": [
    "Running simulation"
   ]
  },
  {
   "cell_type": "code",
   "execution_count": 0,
   "metadata": {
    "application/vnd.databricks.v1+cell": {
     "cellMetadata": {
      "byteLimit": 2048000,
      "rowLimit": 10000
     },
     "inputWidgets": {},
     "nuid": "eea67f47-8a8a-4918-ad4c-b947286e87b3",
     "showTitle": false,
     "tableResultSettingsMap": {},
     "title": ""
    }
   },
   "outputs": [
    {
     "output_type": "stream",
     "name": "stdout",
     "output_type": "stream",
     "text": [
      "\nSimulating for series: Hs_boxcox\n\nSimulating for series: Tp_boxcox\n"
     ]
    }
   ],
   "source": [
    "all_series_sim_dfs = []\n",
    "\n",
    "target_series_for_simulation = [\"Hs_boxcox\", \"Tp_boxcox\"]\n",
    "\n",
    "for series_name_to_sim in target_series_for_simulation:\n",
    "    print(f\"\\nSimulating for series: {series_name_to_sim}\")\n",
    "    if series_name_to_sim not in all_series_monthly_models:\n",
    "        print(f\"  No models found for {series_name_to_sim}. Skipping simulation.\")\n",
    "        continue\n",
    "\n",
    "    monthly_models_for_series = all_series_monthly_models[series_name_to_sim]\n",
    "    all_blocks = []\n",
    "\n",
    "    for month in range(1, 13):\n",
    "        if month not in monthly_models_for_series:\n",
    "            print(f\"  Model for month {month} (series {series_name_to_sim}) not found. Skipping.\")\n",
    "            continue\n",
    "\n",
    "        model_params_for_month = monthly_models_for_series[month]\n",
    "        if \"error\" in model_params_for_month:\n",
    "            print(\n",
    "                f\"  Skipping month {month} for series {series_name_to_sim} \"\n",
    "                f\"due to model fitting error: {model_params_for_month['error']}\"\n",
    "            )\n",
    "            continue\n",
    "\n",
    "        k_regimes = model_params_for_month['k_regimes']\n",
    "        order = model_params_for_month['order']\n",
    "\n",
    "        # ────────────────────────────────────────────────────────────────────\n",
    "        # Use the pre‐built 6‐hourly “future” grid (monthly_output_df) to find the datetime index\n",
    "        # ────────────────────────────────────────────────────────────────────\n",
    "        future_grid = monthly_output_df[month]\n",
    "        month_mask_out = (future_grid[\"Month\"] == month)\n",
    "        datetime_index_for_month = future_grid.index[month_mask_out]\n",
    "        n_obs = len(datetime_index_for_month)\n",
    "\n",
    "        if n_obs == 0:\n",
    "            print(\n",
    "                f\"  No “future” timestamps in month {month}, series {series_name_to_sim}. Skipping simulation.\"\n",
    "            )\n",
    "            continue\n",
    "\n",
    "        # ────────────────────────────────────────────────────────────────────\n",
    "        # Simulate using the already‐fitted MSM parameters for this month\n",
    "        # ────────────────────────────────────────────────────────────────────\n",
    "        res_params_flat = model_params_for_month['ar_params_flat']\n",
    "        params_per_regime = extract_params(res_params_flat, k_regimes, order)\n",
    "\n",
    "        regime_path = simulate_regime_path(\n",
    "            n_obs,\n",
    "            model_params_for_month['initial_probabilities'],\n",
    "            model_params_for_month['transition_matrix']\n",
    "        )\n",
    "\n",
    "        sim_df_month = simulate_msar_with_regimes(\n",
    "            n_obs,\n",
    "            regime_path,\n",
    "            params_per_regime,\n",
    "            order,\n",
    "            series_name_to_sim\n",
    "        )\n",
    "\n",
    "        # Attach the “month” column and the actual 6‐hourly timestamps\n",
    "        sim_df_month['month'] = month\n",
    "        sim_df_month['DateTime'] = datetime_index_for_month\n",
    "\n",
    "        # ────────────────────────────────────────────────────────────────────\n",
    "        # **CRITICAL**: set the index to the real datetimes BEFORE concatenating\n",
    "        # ────────────────────────────────────────────────────────────────────\n",
    "        sim_df_month = sim_df_month.set_index('DateTime')\n",
    "        # Now sim_df_month.index is a DatetimeIndex for that calendar month, in ascending order\n",
    "\n",
    "        all_blocks.append(sim_df_month)\n",
    "\n",
    "    # Once we have appended all 12 calendar‐month blocks for this series,\n",
    "    # concatenate them along rows and then sort by index one final time:\n",
    "    if len(all_blocks) == 0:\n",
    "        print(f\"  No data simulated for series {series_name_to_sim}.\")\n",
    "        continue\n",
    "\n",
    "    df_one_series_simulated_year = pd.concat(all_blocks)\n",
    "    df_one_series_simulated_year = df_one_series_simulated_year.sort_index()\n",
    "    all_series_sim_dfs.append(df_one_series_simulated_year)\n",
    "\n",
    "# ─────────────────────────────────────────────────────────────────────────────\n",
    "# Now combine all series (Hs_boxcox vs Tp_boxcox) side‐by‐side, aligning on the datetime index.\n",
    "# ─────────────────────────────────────────────────────────────────────────────\n",
    "if len(all_series_sim_dfs) == 0:\n",
    "    raise ValueError(\"No simulated series data found in all_series_sim_dfs.\")\n",
    "\n",
    "df_simulated_year = pd.concat(all_series_sim_dfs, axis=1)\n",
    "df_simulated_year = df_simulated_year.sort_index()  # ensure strict chronological order\n",
    "\n",
    "df_simulated_year = df_simulated_year.drop(columns=['month'])\n",
    "df_simulated_year['month'] = df_simulated_year.index.month\n",
    "\n"
   ]
  },
  {
   "cell_type": "markdown",
   "metadata": {
    "application/vnd.databricks.v1+cell": {
     "cellMetadata": {
      "byteLimit": 2048000,
      "rowLimit": 10000
     },
     "inputWidgets": {},
     "nuid": "28c13980-289d-4914-b1d1-a1669551122e",
     "showTitle": false,
     "tableResultSettingsMap": {},
     "title": ""
    }
   },
   "source": [
    "Back transformation"
   ]
  },
  {
   "cell_type": "code",
   "execution_count": 0,
   "metadata": {
    "application/vnd.databricks.v1+cell": {
     "cellMetadata": {
      "byteLimit": 2048000,
      "rowLimit": 10000
     },
     "inputWidgets": {},
     "nuid": "c5afb7a9-08a4-43d8-869b-a7e21b9bc1cb",
     "showTitle": false,
     "tableResultSettingsMap": {},
     "title": ""
    }
   },
   "outputs": [
    {
     "output_type": "stream",
     "name": "stderr",
     "output_type": "stream",
     "text": [
      "/databricks/python/lib/python3.12/site-packages/sklearn/base.py:493: UserWarning: X does not have valid feature names, but PowerTransformer was fitted with feature names\n  warnings.warn(\n/databricks/python/lib/python3.12/site-packages/sklearn/base.py:493: UserWarning: X does not have valid feature names, but PowerTransformer was fitted with feature names\n  warnings.warn(\n/databricks/python/lib/python3.12/site-packages/sklearn/base.py:493: UserWarning: X does not have valid feature names, but PowerTransformer was fitted with feature names\n  warnings.warn(\n/databricks/python/lib/python3.12/site-packages/sklearn/base.py:493: UserWarning: X does not have valid feature names, but PowerTransformer was fitted with feature names\n  warnings.warn(\n/databricks/python/lib/python3.12/site-packages/sklearn/base.py:493: UserWarning: X does not have valid feature names, but PowerTransformer was fitted with feature names\n  warnings.warn(\n/databricks/python/lib/python3.12/site-packages/sklearn/base.py:493: UserWarning: X does not have valid feature names, but PowerTransformer was fitted with feature names\n  warnings.warn(\n/databricks/python/lib/python3.12/site-packages/sklearn/base.py:493: UserWarning: X does not have valid feature names, but PowerTransformer was fitted with feature names\n  warnings.warn(\n/databricks/python/lib/python3.12/site-packages/sklearn/base.py:493: UserWarning: X does not have valid feature names, but PowerTransformer was fitted with feature names\n  warnings.warn(\n/databricks/python/lib/python3.12/site-packages/sklearn/base.py:493: UserWarning: X does not have valid feature names, but PowerTransformer was fitted with feature names\n  warnings.warn(\n/databricks/python/lib/python3.12/site-packages/sklearn/base.py:493: UserWarning: X does not have valid feature names, but PowerTransformer was fitted with feature names\n  warnings.warn(\n/databricks/python/lib/python3.12/site-packages/sklearn/base.py:493: UserWarning: X does not have valid feature names, but PowerTransformer was fitted with feature names\n  warnings.warn(\n/databricks/python/lib/python3.12/site-packages/sklearn/base.py:493: UserWarning: X does not have valid feature names, but PowerTransformer was fitted with feature names\n  warnings.warn(\n/databricks/python/lib/python3.12/site-packages/sklearn/base.py:493: UserWarning: X does not have valid feature names, but PowerTransformer was fitted with feature names\n  warnings.warn(\n/databricks/python/lib/python3.12/site-packages/sklearn/base.py:493: UserWarning: X does not have valid feature names, but PowerTransformer was fitted with feature names\n  warnings.warn(\n/databricks/python/lib/python3.12/site-packages/sklearn/base.py:493: UserWarning: X does not have valid feature names, but PowerTransformer was fitted with feature names\n  warnings.warn(\n/databricks/python/lib/python3.12/site-packages/sklearn/base.py:493: UserWarning: X does not have valid feature names, but PowerTransformer was fitted with feature names\n  warnings.warn(\n/databricks/python/lib/python3.12/site-packages/sklearn/base.py:493: UserWarning: X does not have valid feature names, but PowerTransformer was fitted with feature names\n  warnings.warn(\n/databricks/python/lib/python3.12/site-packages/sklearn/base.py:493: UserWarning: X does not have valid feature names, but PowerTransformer was fitted with feature names\n  warnings.warn(\n/databricks/python/lib/python3.12/site-packages/sklearn/base.py:493: UserWarning: X does not have valid feature names, but PowerTransformer was fitted with feature names\n  warnings.warn(\n/databricks/python/lib/python3.12/site-packages/sklearn/base.py:493: UserWarning: X does not have valid feature names, but PowerTransformer was fitted with feature names\n  warnings.warn(\n/databricks/python/lib/python3.12/site-packages/sklearn/base.py:493: UserWarning: X does not have valid feature names, but PowerTransformer was fitted with feature names\n  warnings.warn(\n/databricks/python/lib/python3.12/site-packages/sklearn/base.py:493: UserWarning: X does not have valid feature names, but PowerTransformer was fitted with feature names\n  warnings.warn(\n/databricks/python/lib/python3.12/site-packages/sklearn/base.py:493: UserWarning: X does not have valid feature names, but PowerTransformer was fitted with feature names\n  warnings.warn(\n/databricks/python/lib/python3.12/site-packages/sklearn/base.py:493: UserWarning: X does not have valid feature names, but PowerTransformer was fitted with feature names\n  warnings.warn(\n"
     ]
    }
   ],
   "source": [
    "df_simulated_year['Hs_original'] = np.nan\n",
    "df_simulated_year['Tp_original'] = np.nan\n",
    "\n",
    "for month in range(1, 13):\n",
    "    # Create a boolean mask of “which rows in df_simulated_year belong to this calendar month”\n",
    "    month_mask = df_simulated_year['month'] == month\n",
    "\n",
    "    # ─── Inverse‐transform Hs_boxcox_simulated → Hs_original ─────────────────────\n",
    "    hs_sim_vals = df_simulated_year.loc[month_mask, 'Hs_boxcox_simulated'].values.reshape(-1, 1)\n",
    "    pt_hs = boxcox_models_Hs[month]  # previously‐fitted PowerTransformer for Hs\n",
    "    hs_inv = pt_hs.inverse_transform(hs_sim_vals).flatten()\n",
    "    df_simulated_year.loc[month_mask, 'Hs_original'] = hs_inv\n",
    "\n",
    "    # ─── Inverse‐transform Tp_boxcox_simulated → Tp_original ─────────────────────\n",
    "    tp_sim_vals = df_simulated_year.loc[month_mask, 'Tp_boxcox_simulated'].values.reshape(-1, 1)\n",
    "    pt_tp = boxcox_models_Tp[month]  # previously‐fitted PowerTransformer for Tp\n",
    "    tp_inv = pt_tp.inverse_transform(tp_sim_vals).flatten()\n",
    "    df_simulated_year.loc[month_mask, 'Tp_original'] = tp_inv"
   ]
  },
  {
   "cell_type": "code",
   "execution_count": 0,
   "metadata": {
    "application/vnd.databricks.v1+cell": {
     "cellMetadata": {
      "byteLimit": 2048000,
      "rowLimit": 10000
     },
     "inputWidgets": {},
     "nuid": "8dfb6dec-e145-42cb-adb7-88b65bcaa118",
     "showTitle": false,
     "tableResultSettingsMap": {},
     "title": ""
    }
   },
   "outputs": [
    {
     "output_type": "execute_result",
     "data": {
      "text/html": [
       "<div>\n",
       "<style scoped>\n",
       "    .dataframe tbody tr th:only-of-type {\n",
       "        vertical-align: middle;\n",
       "    }\n",
       "\n",
       "    .dataframe tbody tr th {\n",
       "        vertical-align: top;\n",
       "    }\n",
       "\n",
       "    .dataframe thead th {\n",
       "        text-align: right;\n",
       "    }\n",
       "</style>\n",
       "<table border=\"1\" class=\"dataframe\">\n",
       "  <thead>\n",
       "    <tr style=\"text-align: right;\">\n",
       "      <th></th>\n",
       "      <th>Hs_boxcox_simulated</th>\n",
       "      <th>Hs_boxcox_Regime</th>\n",
       "      <th>Tp_boxcox_simulated</th>\n",
       "      <th>Tp_boxcox_Regime</th>\n",
       "      <th>month</th>\n",
       "      <th>Hs_original</th>\n",
       "      <th>Tp_original</th>\n",
       "    </tr>\n",
       "    <tr>\n",
       "      <th>DateTime</th>\n",
       "      <th></th>\n",
       "      <th></th>\n",
       "      <th></th>\n",
       "      <th></th>\n",
       "      <th></th>\n",
       "      <th></th>\n",
       "      <th></th>\n",
       "    </tr>\n",
       "  </thead>\n",
       "  <tbody>\n",
       "    <tr>\n",
       "      <th>1980-01-01 00:00:00+00:00</th>\n",
       "      <td>0.000000</td>\n",
       "      <td>1</td>\n",
       "      <td>0.000000</td>\n",
       "      <td>1</td>\n",
       "      <td>1</td>\n",
       "      <td>1.346116</td>\n",
       "      <td>8.236147</td>\n",
       "    </tr>\n",
       "    <tr>\n",
       "      <th>1980-01-01 06:00:00+00:00</th>\n",
       "      <td>0.000000</td>\n",
       "      <td>1</td>\n",
       "      <td>0.000000</td>\n",
       "      <td>1</td>\n",
       "      <td>1</td>\n",
       "      <td>1.346116</td>\n",
       "      <td>8.236147</td>\n",
       "    </tr>\n",
       "    <tr>\n",
       "      <th>1980-01-01 12:00:00+00:00</th>\n",
       "      <td>-0.069490</td>\n",
       "      <td>1</td>\n",
       "      <td>-0.096278</td>\n",
       "      <td>1</td>\n",
       "      <td>1</td>\n",
       "      <td>1.291342</td>\n",
       "      <td>7.922447</td>\n",
       "    </tr>\n",
       "    <tr>\n",
       "      <th>1980-01-01 18:00:00+00:00</th>\n",
       "      <td>0.201518</td>\n",
       "      <td>1</td>\n",
       "      <td>0.334430</td>\n",
       "      <td>1</td>\n",
       "      <td>1</td>\n",
       "      <td>1.514865</td>\n",
       "      <td>9.413792</td>\n",
       "    </tr>\n",
       "    <tr>\n",
       "      <th>1980-01-02 00:00:00+00:00</th>\n",
       "      <td>0.381103</td>\n",
       "      <td>1</td>\n",
       "      <td>0.363242</td>\n",
       "      <td>1</td>\n",
       "      <td>1</td>\n",
       "      <td>1.678225</td>\n",
       "      <td>9.521956</td>\n",
       "    </tr>\n",
       "    <tr>\n",
       "      <th>...</th>\n",
       "      <td>...</td>\n",
       "      <td>...</td>\n",
       "      <td>...</td>\n",
       "      <td>...</td>\n",
       "      <td>...</td>\n",
       "      <td>...</td>\n",
       "      <td>...</td>\n",
       "    </tr>\n",
       "    <tr>\n",
       "      <th>2030-01-02 00:00:00+00:00</th>\n",
       "      <td>-0.488733</td>\n",
       "      <td>1</td>\n",
       "      <td>-0.852058</td>\n",
       "      <td>1</td>\n",
       "      <td>1</td>\n",
       "      <td>0.995552</td>\n",
       "      <td>5.807222</td>\n",
       "    </tr>\n",
       "    <tr>\n",
       "      <th>2030-01-02 06:00:00+00:00</th>\n",
       "      <td>-0.774435</td>\n",
       "      <td>1</td>\n",
       "      <td>-1.073669</td>\n",
       "      <td>1</td>\n",
       "      <td>1</td>\n",
       "      <td>0.825413</td>\n",
       "      <td>5.291107</td>\n",
       "    </tr>\n",
       "    <tr>\n",
       "      <th>2030-01-02 12:00:00+00:00</th>\n",
       "      <td>-1.178534</td>\n",
       "      <td>1</td>\n",
       "      <td>-1.409988</td>\n",
       "      <td>1</td>\n",
       "      <td>1</td>\n",
       "      <td>0.623271</td>\n",
       "      <td>4.585843</td>\n",
       "    </tr>\n",
       "    <tr>\n",
       "      <th>2030-01-02 18:00:00+00:00</th>\n",
       "      <td>-1.129050</td>\n",
       "      <td>1</td>\n",
       "      <td>-1.037671</td>\n",
       "      <td>1</td>\n",
       "      <td>1</td>\n",
       "      <td>0.645774</td>\n",
       "      <td>5.372053</td>\n",
       "    </tr>\n",
       "    <tr>\n",
       "      <th>2030-01-03 00:00:00+00:00</th>\n",
       "      <td>-1.049081</td>\n",
       "      <td>1</td>\n",
       "      <td>-1.002824</td>\n",
       "      <td>1</td>\n",
       "      <td>1</td>\n",
       "      <td>0.683425</td>\n",
       "      <td>5.451459</td>\n",
       "    </tr>\n",
       "  </tbody>\n",
       "</table>\n",
       "<p>73061 rows × 7 columns</p>\n",
       "</div>"
      ],
      "text/plain": [
       "                           Hs_boxcox_simulated  ...  Tp_original\n",
       "DateTime                                        ...             \n",
       "1980-01-01 00:00:00+00:00             0.000000  ...     8.236147\n",
       "1980-01-01 06:00:00+00:00             0.000000  ...     8.236147\n",
       "1980-01-01 12:00:00+00:00            -0.069490  ...     7.922447\n",
       "1980-01-01 18:00:00+00:00             0.201518  ...     9.413792\n",
       "1980-01-02 00:00:00+00:00             0.381103  ...     9.521956\n",
       "...                                        ...  ...          ...\n",
       "2030-01-02 00:00:00+00:00            -0.488733  ...     5.807222\n",
       "2030-01-02 06:00:00+00:00            -0.774435  ...     5.291107\n",
       "2030-01-02 12:00:00+00:00            -1.178534  ...     4.585843\n",
       "2030-01-02 18:00:00+00:00            -1.129050  ...     5.372053\n",
       "2030-01-03 00:00:00+00:00            -1.049081  ...     5.451459\n",
       "\n",
       "[73061 rows x 7 columns]"
      ]
     },
     "execution_count": 15,
     "metadata": {},
     "output_type": "execute_result"
    },
    {
     "output_type": "display_data",
     "data": {
      "application/vnd.databricks.v1+display_df_hint": {
       "mode": "should_hint",
       "name": "df_simulated_year",
       "type": "pandas.core.frame.DataFrame"
      }
     },
     "metadata": {},
     "output_type": "display_data"
    }
   ],
   "source": [
    "df_simulated_year"
   ]
  },
  {
   "cell_type": "code",
   "execution_count": 0,
   "metadata": {
    "application/vnd.databricks.v1+cell": {
     "cellMetadata": {
      "byteLimit": 2048000,
      "rowLimit": 10000
     },
     "inputWidgets": {},
     "nuid": "65445be8-3e3d-4839-a8ab-0411fa442dc2",
     "showTitle": false,
     "tableResultSettingsMap": {},
     "title": ""
    }
   },
   "outputs": [
    {
     "output_type": "display_data",
     "data": {
      "image/png": "[encoded data removed]",
      "text/plain": [
       "<Figure size 640x480 with 1 Axes>"
      ]
     },
     "metadata": {},
     "output_type": "display_data"
    },
    {
     "output_type": "display_data",
     "data": {
      "image/png": "[encoded data removed]",
      "text/plain": [
       "<Figure size 640x480 with 1 Axes>"
      ]
     },
     "metadata": {},
     "output_type": "display_data"
    }
   ],
   "source": [
    "fig, ax = plt.subplots()\n",
    "ax.plot(df_simulated_year.index, df_simulated_year['Hs_original'], linewidth=1)\n",
    "ax.set_title('Hs (Back-Transformed) Over Time')\n",
    "ax.set_xlabel('DateTime')\n",
    "ax.set_ylabel('Hs_original')\n",
    "plt.tight_layout()\n",
    "plt.show()\n",
    "\n",
    "fig, ax = plt.subplots()\n",
    "ax.plot(df_simulated_year.index, df_simulated_year['Tp_original'], linewidth=1)\n",
    "ax.set_title('Tp (Back-Transformed) Over Time')\n",
    "ax.set_xlabel('DateTime')\n",
    "ax.set_ylabel('Tp_original')\n",
    "plt.tight_layout()\n",
    "plt.show()"
   ]
  },
  {
   "cell_type": "code",
   "execution_count": 0,
   "metadata": {
    "application/vnd.databricks.v1+cell": {
     "cellMetadata": {
      "byteLimit": 2048000,
      "rowLimit": 10000
     },
     "inputWidgets": {},
     "nuid": "4c34f1ad-7eb6-483f-addc-a1e4f5d736dd",
     "showTitle": false,
     "tableResultSettingsMap": {},
     "title": ""
    }
   },
   "outputs": [
    {
     "output_type": "display_data",
     "data": {
      "image/png": "[encoded data removed]",
      "text/plain": [
       "<Figure size 1400x600 with 1 Axes>"
      ]
     },
     "metadata": {},
     "output_type": "display_data"
    }
   ],
   "source": [
    "import numpy as np\n",
    "import pandas as pd\n",
    "import matplotlib.pyplot as plt\n",
    "\n",
    "# 1) get your monthly arrays\n",
    "def get_monthly_data(df, col):\n",
    "    return [df[df.index.month == m][col].dropna().values\n",
    "            for m in range(1, 13)]\n",
    "\n",
    "obs_data = get_monthly_data(df_raw, 'Hs')\n",
    "sim_data = get_monthly_data(df_simulated_year, 'Hs_original')\n",
    "\n",
    "# 2) build a figure with 12 grouped boxplots\n",
    "fig, ax = plt.subplots(figsize=(14, 6))\n",
    "\n",
    "# positions for the 12 months\n",
    "months = np.arange(1, 13)\n",
    "width = 0.35\n",
    "\n",
    "# boxplot for observed (shifted left)\n",
    "bp_obs = ax.boxplot(\n",
    "    obs_data,\n",
    "    positions=months - width/2,\n",
    "    widths=width,\n",
    "    patch_artist=True,\n",
    "    showfliers=True,\n",
    "    whiskerprops=dict(color='C0'),\n",
    "    boxprops=dict(facecolor='C0', alpha=0.5),\n",
    "    medianprops=dict(color='yellow')\n",
    ")\n",
    "\n",
    "# boxplot for simulated (shifted right)\n",
    "bp_sim = ax.boxplot(\n",
    "    sim_data,\n",
    "    positions=months + width/2,\n",
    "    widths=width,\n",
    "    patch_artist=True,\n",
    "    showfliers=True,\n",
    "    whiskerprops=dict(color='C1'),\n",
    "    boxprops=dict(facecolor='C1', alpha=0.5),\n",
    "    medianprops=dict(color='yellow')\n",
    ")\n",
    "\n",
    "# 3) cosmetic\n",
    "ax.set_xticks(months)\n",
    "ax.set_xticklabels([str(m) for m in months])\n",
    "ax.set_xlabel('Month')\n",
    "ax.set_ylabel('Significant Wave Height (Hs)')\n",
    "\n",
    "ax.set_ylim([0,10])\n",
    "ax.set_title('Monthly Box & Whisker Plot: Observed vs. Simulated')\n",
    "ax.legend(\n",
    "    [bp_obs[\"boxes\"][0], bp_sim[\"boxes\"][0]],\n",
    "    ['Observed','Simulated'],\n",
    "    loc='upper right'\n",
    ")\n",
    "ax.grid(axis='y', linestyle='--', alpha=0.4)\n",
    "\n",
    "plt.tight_layout()\n",
    "plt.show()\n"
   ]
  },
  {
   "cell_type": "code",
   "execution_count": 0,
   "metadata": {
    "application/vnd.databricks.v1+cell": {
     "cellMetadata": {
      "byteLimit": 2048000,
      "rowLimit": 10000
     },
     "inputWidgets": {},
     "nuid": "e6c8bcb6-9754-4b79-85b7-70636eab5a23",
     "showTitle": false,
     "tableResultSettingsMap": {},
     "title": ""
    }
   },
   "outputs": [],
   "source": [
    "obs_data = df_raw['Hs']\n",
    "sim_data = df_simulated_year['Hs_original']"
   ]
  },
  {
   "cell_type": "markdown",
   "metadata": {
    "application/vnd.databricks.v1+cell": {
     "cellMetadata": {
      "byteLimit": 2048000,
      "rowLimit": 10000
     },
     "inputWidgets": {},
     "nuid": "91f0bc9a-5878-4497-9737-db0349751136",
     "showTitle": false,
     "tableResultSettingsMap": {},
     "title": ""
    }
   },
   "source": [
    "##WOW"
   ]
  }
 ],
 "metadata": {
  "application/vnd.databricks.v1+notebook": {
   "computePreferences": null,
   "dashboards": [],
   "environmentMetadata": {
    "base_environment": "",
    "environment_version": "2"
   },
   "inputWidgetPreferences": null,
   "language": "python",
   "notebookMetadata": {
    "pythonIndentUnit": 4
   },
   "notebookName": "(Clone) Full model",
   "widgets": {}
  },
  "language_info": {
   "name": "python"
  }
 },
 "nbformat": 4,
 "nbformat_minor": 0
}